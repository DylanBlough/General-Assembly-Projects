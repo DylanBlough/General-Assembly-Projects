{
 "cells": [
  {
   "cell_type": "code",
   "execution_count": 159,
   "metadata": {},
   "outputs": [],
   "source": [
    "# Imports\n",
    "\n",
    "import pandas as pd\n",
    "import numpy as np\n",
    "import scipy.stats as stats\n",
    "from sklearn.linear_model import LinearRegression, Ridge, Lasso, LassoCV\n",
    "import sklearn.metrics as metrics\n",
    "from sklearn.model_selection import cross_val_score, cross_val_predict, train_test_split\n",
    "from sklearn.preprocessing import PolynomialFeatures, StandardScaler\n",
    "import matplotlib\n",
    "import matplotlib.pyplot as plt\n",
    "import seaborn as sns\n",
    "\n",
    "%matplotlib inline"
   ]
  },
  {
   "cell_type": "code",
   "execution_count": 160,
   "metadata": {},
   "outputs": [],
   "source": [
    "# Data Sets\n",
    "\n",
    "train = pd.read_csv('../datasets/train_clean.csv')\n",
    "test = pd.read_csv('../datasets/test_clean.csv')"
   ]
  },
  {
   "cell_type": "code",
   "execution_count": 161,
   "metadata": {},
   "outputs": [
    {
     "name": "stdout",
     "output_type": "stream",
     "text": [
      "Strongest Correlation to Sales Price\n",
      "saleprice        1.000000\n",
      "overall_qual     0.802384\n",
      "gr_liv_area      0.719829\n",
      "total_bsmt_sf    0.664471\n",
      "garage_area      0.655388\n",
      "                   ...   \n",
      "SawyerW               NaN\n",
      "Somerst               NaN\n",
      "StoneBr               NaN\n",
      "Timber                NaN\n",
      "Veenker               NaN\n",
      "Name: saleprice, Length: 67, dtype: float64\n"
     ]
    }
   ],
   "source": [
    "# Correlation list for feature selection\n",
    "\n",
    "print(\"Strongest Correlation to Sales Price\")\n",
    "corr = train.corr()\n",
    "corr.sort_values([\"saleprice\"], ascending = False, inplace = True)\n",
    "\n",
    "print(corr.saleprice)"
   ]
  },
  {
   "cell_type": "markdown",
   "metadata": {},
   "source": [
    "## Model 1"
   ]
  },
  {
   "cell_type": "code",
   "execution_count": 162,
   "metadata": {},
   "outputs": [],
   "source": [
    "# picking 3 of the strongest correlated features. I dropped the garage ones for the first iteration of the model \n",
    "\n",
    "features = ['overall_qual', 'gr_liv_area', 'year_built']\n",
    "X = train[features]\n",
    "y = train['saleprice']"
   ]
  },
  {
   "cell_type": "code",
   "execution_count": 163,
   "metadata": {},
   "outputs": [
    {
     "data": {
      "text/plain": [
       "LinearRegression(copy_X=True, fit_intercept=True, n_jobs=None, normalize=False)"
      ]
     },
     "execution_count": 163,
     "metadata": {},
     "output_type": "execute_result"
    }
   ],
   "source": [
    "lr = LinearRegression()\n",
    "lr.fit(X, y) # fitting the model"
   ]
  },
  {
   "cell_type": "code",
   "execution_count": 164,
   "metadata": {},
   "outputs": [
    {
     "data": {
      "text/plain": [
       "0.7711884045869655"
      ]
     },
     "execution_count": 164,
     "metadata": {},
     "output_type": "execute_result"
    }
   ],
   "source": [
    "lr.score(X, y) # R^2 score"
   ]
  },
  {
   "cell_type": "markdown",
   "metadata": {},
   "source": [
    ".77 is not a bad score, but will probably be improved by adding more features."
   ]
  },
  {
   "cell_type": "code",
   "execution_count": 165,
   "metadata": {},
   "outputs": [
    {
     "data": {
      "text/plain": [
       "-7.080526095657533e-11"
      ]
     },
     "execution_count": 165,
     "metadata": {},
     "output_type": "execute_result"
    }
   ],
   "source": [
    "# create the predictions variable\n",
    "\n",
    "preds = lr.predict(X)\n",
    "\n",
    "# create the residuals variable\n",
    "\n",
    "resids = y - preds\n",
    "resids.mean()"
   ]
  },
  {
   "cell_type": "code",
   "execution_count": 166,
   "metadata": {},
   "outputs": [
    {
     "data": {
      "image/png": "[encoded data removed]",
      "text/plain": [
       "<Figure size 432x288 with 1 Axes>"
      ]
     },
     "metadata": {
      "needs_background": "light"
     },
     "output_type": "display_data"
    }
   ],
   "source": [
    "plt.scatter(preds, resids) # creating a scratter plot of the residuals\n",
    "plt.axhline(0, color = 'r');"
   ]
  },
  {
   "cell_type": "code",
   "execution_count": 167,
   "metadata": {},
   "outputs": [
    {
     "name": "stdout",
     "output_type": "stream",
     "text": [
      "27489.40256551461\n",
      "1426022121.450271\n",
      "37762.7080788742\n"
     ]
    }
   ],
   "source": [
    "# Mean Absolute Error\n",
    "print(metrics.mean_absolute_error(y, preds))\n",
    "\n",
    "# Mean Squared Error\n",
    "print(metrics.mean_squared_error(y, preds))\n",
    "\n",
    "# Root Mean Squared Error\n",
    "print(np.sqrt(metrics.mean_squared_error(y, preds)))"
   ]
  },
  {
   "cell_type": "markdown",
   "metadata": {},
   "source": [
    "Based off the scores and the plot of the residuals, it appears that this model is heavily affected by outliers"
   ]
  },
  {
   "cell_type": "code",
   "execution_count": 168,
   "metadata": {},
   "outputs": [],
   "source": [
    "# Moving down our test features for the test data\n",
    "test_features = ['overall_qual', 'gr_liv_area', 'year_built']\n",
    "\n",
    "X = test[features]\n",
    "y_pred = lr.predict(X)"
   ]
  },
  {
   "cell_type": "code",
   "execution_count": 169,
   "metadata": {},
   "outputs": [],
   "source": [
    "# Submission\n",
    "\n",
    "submission = pd.DataFrame(test['id'], columns = ['id']) # Submissions['Id'] is submission.index\n",
    "submission['SalePrice'] = y_pred\n",
    "submission.to_csv('../datasets/submission.csv', index = False)"
   ]
  },
  {
   "cell_type": "markdown",
   "metadata": {},
   "source": [
    "This model is underfit, but I wanted to try out just a few of the strongst correlated for my first model"
   ]
  },
  {
   "cell_type": "markdown",
   "metadata": {},
   "source": [
    "## Model 2"
   ]
  },
  {
   "cell_type": "code",
   "execution_count": 170,
   "metadata": {},
   "outputs": [],
   "source": [
    "features = ['overall_qual', 'gr_liv_area', 'year_built']\n",
    "X = train[features]\n",
    "y = np.log(train['saleprice']) # taking the log of the saleprice to help reduce the effect of outliers"
   ]
  },
  {
   "cell_type": "code",
   "execution_count": 171,
   "metadata": {},
   "outputs": [
    {
     "data": {
      "text/plain": [
       "LinearRegression(copy_X=True, fit_intercept=True, n_jobs=None, normalize=False)"
      ]
     },
     "execution_count": 171,
     "metadata": {},
     "output_type": "execute_result"
    }
   ],
   "source": [
    "lr = LinearRegression()\n",
    "lr.fit(X, y)"
   ]
  },
  {
   "cell_type": "code",
   "execution_count": 172,
   "metadata": {},
   "outputs": [
    {
     "data": {
      "text/plain": [
       "0.8037798015597477"
      ]
     },
     "execution_count": 172,
     "metadata": {},
     "output_type": "execute_result"
    }
   ],
   "source": [
    "lr.score(X, y)"
   ]
  },
  {
   "cell_type": "code",
   "execution_count": 173,
   "metadata": {},
   "outputs": [
    {
     "data": {
      "text/plain": [
       "-2.788966052198461e-16"
      ]
     },
     "execution_count": 173,
     "metadata": {},
     "output_type": "execute_result"
    }
   ],
   "source": [
    "# create the predictions variable\n",
    "\n",
    "preds = lr.predict(X)\n",
    "\n",
    "# create the residuals variable\n",
    "\n",
    "resids = y - preds\n",
    "resids.mean()"
   ]
  },
  {
   "cell_type": "code",
   "execution_count": 174,
   "metadata": {},
   "outputs": [
    {
     "data": {
      "image/png": "[encoded data removed]",
      "text/plain": [
       "<Figure size 432x288 with 1 Axes>"
      ]
     },
     "metadata": {
      "needs_background": "light"
     },
     "output_type": "display_data"
    }
   ],
   "source": [
    "plt.scatter(preds, resids)\n",
    "plt.axhline(0, color = 'r');"
   ]
  },
  {
   "cell_type": "code",
   "execution_count": 175,
   "metadata": {},
   "outputs": [
    {
     "name": "stdout",
     "output_type": "stream",
     "text": [
      "0.13355687133534463\n",
      "0.03300211086415083\n",
      "0.181664831115301\n"
     ]
    }
   ],
   "source": [
    "# Mean Absolute Error\n",
    "print(metrics.mean_absolute_error(y, preds))\n",
    "\n",
    "# Mean Squared Error\n",
    "print(metrics.mean_squared_error(y, preds))\n",
    "\n",
    "# Root Mean Squared Error\n",
    "print(np.sqrt(metrics.mean_squared_error(y, preds)))"
   ]
  },
  {
   "cell_type": "markdown",
   "metadata": {},
   "source": [
    "Even though there are still some outliers, the squared errors are much lower after taking the log of the saleprice"
   ]
  },
  {
   "cell_type": "code",
   "execution_count": 176,
   "metadata": {},
   "outputs": [],
   "source": [
    "test_features = ['overall_qual', 'gr_liv_area', 'year_built']\n",
    "\n",
    "X = test[features]\n",
    "y_pred = lr.predict(X)"
   ]
  },
  {
   "cell_type": "code",
   "execution_count": 177,
   "metadata": {},
   "outputs": [],
   "source": [
    "# Submission\n",
    "\n",
    "submission = pd.DataFrame(test['id'], columns = ['id']) # Submissions['Id'] is submission.index\n",
    "submission['SalePrice'] = y_pred\n",
    "submission.to_csv('../datasets/submission.csv', index = False)"
   ]
  },
  {
   "cell_type": "markdown",
   "metadata": {},
   "source": [
    "## Model 3"
   ]
  },
  {
   "cell_type": "code",
   "execution_count": 215,
   "metadata": {},
   "outputs": [],
   "source": [
    "features = ['overall_qual', 'overall_cond', 'gr_liv_area', 'year_built', 'first_flr_sf'] # adding more features\n",
    "X = train[features]\n",
    "y = np.log(train['saleprice'])"
   ]
  },
  {
   "cell_type": "code",
   "execution_count": 216,
   "metadata": {},
   "outputs": [
    {
     "data": {
      "text/plain": [
       "LinearRegression(copy_X=True, fit_intercept=True, n_jobs=None, normalize=False)"
      ]
     },
     "execution_count": 216,
     "metadata": {},
     "output_type": "execute_result"
    }
   ],
   "source": [
    "lr = LinearRegression()\n",
    "lr.fit(X, y)"
   ]
  },
  {
   "cell_type": "code",
   "execution_count": 217,
   "metadata": {},
   "outputs": [
    {
     "data": {
      "text/plain": [
       "0.853613928559796"
      ]
     },
     "execution_count": 217,
     "metadata": {},
     "output_type": "execute_result"
    }
   ],
   "source": [
    "lr.score(X, y)"
   ]
  },
  {
   "cell_type": "code",
   "execution_count": 218,
   "metadata": {},
   "outputs": [
    {
     "data": {
      "text/plain": [
       "9.868649107779169e-17"
      ]
     },
     "execution_count": 218,
     "metadata": {},
     "output_type": "execute_result"
    }
   ],
   "source": [
    "# create the predictions variable\n",
    "\n",
    "preds = lr.predict(X)\n",
    "\n",
    "# create the residuals variable\n",
    "\n",
    "resids = y - preds\n",
    "resids.mean()"
   ]
  },
  {
   "cell_type": "code",
   "execution_count": 219,
   "metadata": {},
   "outputs": [
    {
     "data": {
      "image/png": "[encoded data removed]",
      "text/plain": [
       "<Figure size 432x288 with 1 Axes>"
      ]
     },
     "metadata": {
      "needs_background": "light"
     },
     "output_type": "display_data"
    }
   ],
   "source": [
    "plt.scatter(preds, resids)\n",
    "plt.axhline(0, color = 'r');"
   ]
  },
  {
   "cell_type": "code",
   "execution_count": 220,
   "metadata": {},
   "outputs": [
    {
     "name": "stdout",
     "output_type": "stream",
     "text": [
      "0.11394623278471258\n",
      "0.024620550774277935\n",
      "0.15690937121242293\n"
     ]
    }
   ],
   "source": [
    "# Mean Absolute Error\n",
    "print(metrics.mean_absolute_error(y, preds))\n",
    "\n",
    "# Mean Squared Error\n",
    "print(metrics.mean_squared_error(y, preds))\n",
    "\n",
    "# Root Mean Squared Error\n",
    "print(np.sqrt(metrics.mean_squared_error(y, preds)))"
   ]
  },
  {
   "cell_type": "markdown",
   "metadata": {},
   "source": [
    "## Model 4 - Kaggle Submission"
   ]
  },
  {
   "cell_type": "code",
   "execution_count": 223,
   "metadata": {},
   "outputs": [],
   "source": [
    "features = ['overall_qual', 'overall_cond', 'gr_liv_area', 'year_built', 'first_flr_sf', 'Blmngtn', 'Blueste', 'BrDale',\n",
    "            'BrkSide', 'ClearCr', 'CollgCr', 'Crawfor', 'Edwards', 'Gilbert', 'IDOTRR', 'MeadowV', 'Mitchel',\n",
    "            'NoRidge', 'NPkVill', 'NridgHt', 'NWAmes', 'OldTown', 'SWISU', 'Sawyer', 'SawyerW', \n",
    "            'Somerst', 'StoneBr', 'Timber', 'Veenker']\n",
    "X = train[features]\n",
    "y = np.log(train['saleprice'])"
   ]
  },
  {
   "cell_type": "markdown",
   "metadata": {},
   "source": [
    "For this one I added all of the dummy neighborhood columns I created to test the effect of location in addition to the size & quality."
   ]
  },
  {
   "cell_type": "code",
   "execution_count": 224,
   "metadata": {},
   "outputs": [
    {
     "data": {
      "text/plain": [
       "LinearRegression(copy_X=True, fit_intercept=True, n_jobs=None, normalize=False)"
      ]
     },
     "execution_count": 224,
     "metadata": {},
     "output_type": "execute_result"
    }
   ],
   "source": [
    "lr = LinearRegression()\n",
    "lr.fit(X, y)"
   ]
  },
  {
   "cell_type": "code",
   "execution_count": 225,
   "metadata": {},
   "outputs": [
    {
     "data": {
      "text/plain": [
       "0.8560903024324863"
      ]
     },
     "execution_count": 225,
     "metadata": {},
     "output_type": "execute_result"
    }
   ],
   "source": [
    "lr.score(X, y)"
   ]
  },
  {
   "cell_type": "markdown",
   "metadata": {},
   "source": [
    "The R^2 score indicates that our model has 85% accuracy on the training data"
   ]
  },
  {
   "cell_type": "code",
   "execution_count": 226,
   "metadata": {},
   "outputs": [
    {
     "data": {
      "text/plain": [
       "-6.96812441349277e-16"
      ]
     },
     "execution_count": 226,
     "metadata": {},
     "output_type": "execute_result"
    }
   ],
   "source": [
    "# create the predictions variable\n",
    "\n",
    "preds = lr.predict(X)\n",
    "\n",
    "# create the residuals variable\n",
    "\n",
    "resids = y - preds\n",
    "resids.mean()"
   ]
  },
  {
   "cell_type": "code",
   "execution_count": 227,
   "metadata": {
    "scrolled": true
   },
   "outputs": [
    {
     "data": {
      "image/png": "[encoded data removed]",
      "text/plain": [
       "<Figure size 432x288 with 1 Axes>"
      ]
     },
     "metadata": {
      "needs_background": "light"
     },
     "output_type": "display_data"
    }
   ],
   "source": [
    "plt.scatter(preds, resids)\n",
    "plt.axhline(0, color = 'r');"
   ]
  },
  {
   "cell_type": "code",
   "execution_count": 228,
   "metadata": {},
   "outputs": [
    {
     "name": "stdout",
     "output_type": "stream",
     "text": [
      "0.11207962938257812\n",
      "0.02420405152630421\n",
      "0.15557651341479603\n"
     ]
    }
   ],
   "source": [
    "# Mean Absolute Error\n",
    "print(metrics.mean_absolute_error(y, preds))\n",
    "\n",
    "# Mean Squared Error\n",
    "print(metrics.mean_squared_error(y, preds))\n",
    "\n",
    "# Root Mean Squared Error\n",
    "print(np.sqrt(metrics.mean_squared_error(y, preds)))"
   ]
  },
  {
   "cell_type": "code",
   "execution_count": 229,
   "metadata": {},
   "outputs": [],
   "source": [
    "test_features = ['overall_qual', 'gr_liv_area', 'year_built', 'first_flr_sf', 'Blmngtn', 'Blueste', 'BrDale',\n",
    "            'BrkSide', 'ClearCr', 'CollgCr', 'Crawfor', 'Edwards', 'Gilbert', 'IDOTRR', 'MeadowV', 'Mitchel',\n",
    "            'NoRidge', 'NPkVill', 'NridgHt', 'NWAmes', 'OldTown', 'SWISU', 'Sawyer', 'SawyerW', \n",
    "            'Somerst', 'StoneBr', 'Timber', 'Veenker']\n",
    "X = test[features]\n",
    "y_pred = lr.predict(X)"
   ]
  },
  {
   "cell_type": "code",
   "execution_count": 230,
   "metadata": {},
   "outputs": [],
   "source": [
    "submission = pd.DataFrame(test['id'], columns = ['id']) # Submissions['Id'] is submission.index\n",
    "submission['SalePrice'] = y_pred\n",
    "submission.to_csv('../datasets/submission.csv', index = False)"
   ]
  },
  {
   "cell_type": "markdown",
   "metadata": {},
   "source": [
    "## Model 5: Ridge Model"
   ]
  },
  {
   "cell_type": "code",
   "execution_count": 231,
   "metadata": {},
   "outputs": [],
   "source": [
    "# Create X and y.\n",
    "features = ['overall_qual', 'overall_cond', 'gr_liv_area', 'year_built', 'first_flr_sf']\n",
    "X = train[features]\n",
    "y = np.log(train['saleprice'])\n",
    "\n",
    "X_test = test[features]\n",
    "\n",
    "# Fit and transform our X data.\n",
    "# X_overfit = poly.fit_transform(X)\n",
    "# X_overfit_test = poly.fit_transform(X_test)"
   ]
  },
  {
   "cell_type": "code",
   "execution_count": 232,
   "metadata": {},
   "outputs": [
    {
     "name": "stdout",
     "output_type": "stream",
     "text": [
      "(2072, 14)\n",
      "(878, 14)\n"
     ]
    }
   ],
   "source": [
    "print(X_overfit.shape)\n",
    "print(X_overfit_test.shape)"
   ]
  },
  {
   "cell_type": "code",
   "execution_count": 233,
   "metadata": {},
   "outputs": [],
   "source": [
    "# Instantiate Standard Scaler.\n",
    "\n",
    "ss = StandardScaler()\n",
    "\n",
    "# Fit AND transform Standard Scaler to overfit data in one step.\n",
    "\n",
    "Z_train = ss.fit_transform(X)\n",
    "Z_test = ss.transform(X_test)"
   ]
  },
  {
   "cell_type": "code",
   "execution_count": 234,
   "metadata": {},
   "outputs": [
    {
     "data": {
      "text/plain": [
       "Ridge(alpha=10, copy_X=True, fit_intercept=True, max_iter=None, normalize=False,\n",
       "      random_state=None, solver='auto', tol=0.001)"
      ]
     },
     "execution_count": 234,
     "metadata": {},
     "output_type": "execute_result"
    }
   ],
   "source": [
    "ridge_model = Ridge(alpha=10)\n",
    "\n",
    "# Fit.\n",
    "ridge_model.fit(Z_train, y)"
   ]
  },
  {
   "cell_type": "code",
   "execution_count": 235,
   "metadata": {},
   "outputs": [
    {
     "data": {
      "text/plain": [
       "0.8536077230215144"
      ]
     },
     "execution_count": 235,
     "metadata": {},
     "output_type": "execute_result"
    }
   ],
   "source": [
    "ridge_model.score(Z_train, y)"
   ]
  },
  {
   "cell_type": "code",
   "execution_count": 236,
   "metadata": {},
   "outputs": [],
   "source": [
    "# Using our transformed test data from above\n",
    "\n",
    "y_preds = np.exp(ridge_model.predict(Z_test))"
   ]
  },
  {
   "cell_type": "code",
   "execution_count": 237,
   "metadata": {},
   "outputs": [
    {
     "data": {
      "text/plain": [
       "(878,)"
      ]
     },
     "execution_count": 237,
     "metadata": {},
     "output_type": "execute_result"
    }
   ],
   "source": [
    "y_preds.shape"
   ]
  },
  {
   "cell_type": "code",
   "execution_count": 238,
   "metadata": {},
   "outputs": [],
   "source": [
    "submission = pd.DataFrame(test['id'], columns = ['id']) # Submissions['Id'] is submission.index\n",
    "submission['SalePrice'] = y_pred\n",
    "submission.to_csv('../datasets/submission.csv', index = False)"
   ]
  },
  {
   "cell_type": "markdown",
   "metadata": {},
   "source": [
    "## Model 6: Lasso Model"
   ]
  },
  {
   "cell_type": "code",
   "execution_count": 239,
   "metadata": {},
   "outputs": [],
   "source": [
    "features = ['overall_qual', 'overall_cond', 'gr_liv_area', 'year_built', 'first_flr_sf']\n",
    "X = train[features]\n",
    "y_train = np.log(train['saleprice'])\n",
    "X_test = test[features]"
   ]
  },
  {
   "cell_type": "code",
   "execution_count": 240,
   "metadata": {},
   "outputs": [],
   "source": [
    "# Instantiate Standard Scaler.\n",
    "\n",
    "ss = StandardScaler()\n",
    "\n",
    "# Fit AND transform Standard Scaler to overfit data in one step.\n",
    "\n",
    "Z_train = ss.fit_transform(X)\n",
    "Z_test = ss.transform(X_test)"
   ]
  },
  {
   "cell_type": "code",
   "execution_count": 241,
   "metadata": {},
   "outputs": [
    {
     "name": "stderr",
     "output_type": "stream",
     "text": [
      "/Users/dylanblough/opt/anaconda3/lib/python3.7/site-packages/sklearn/model_selection/_split.py:1978: FutureWarning: The default value of cv will change from 3 to 5 in version 0.22. Specify it explicitly to silence this warning.\n",
      "  warnings.warn(CV_WARNING, FutureWarning)\n"
     ]
    }
   ],
   "source": [
    "lasso_model = LassoCV()\n",
    "\n",
    "# Fit model using best ridge alpha!\n",
    "lasso_model = lasso_model.fit(Z_train, y_train)"
   ]
  },
  {
   "cell_type": "code",
   "execution_count": 242,
   "metadata": {},
   "outputs": [
    {
     "name": "stdout",
     "output_type": "stream",
     "text": [
      "0.8536111508580784\n"
     ]
    }
   ],
   "source": [
    "print(lasso_model.score(Z_train, y_train))"
   ]
  },
  {
   "cell_type": "code",
   "execution_count": 243,
   "metadata": {},
   "outputs": [],
   "source": [
    "# Using our transformed test data from above\n",
    "\n",
    "y_preds = np.exp(lasso_model.predict(Z_test))"
   ]
  },
  {
   "cell_type": "code",
   "execution_count": 244,
   "metadata": {},
   "outputs": [],
   "source": [
    "submission = pd.DataFrame(test['id'], columns = ['id']) # Submissions['Id'] is submission.index\n",
    "submission['SalePrice'] = y_pred\n",
    "submission.to_csv('../datasets/submission.csv', index = False)"
   ]
  },
  {
   "cell_type": "code",
   "execution_count": null,
   "metadata": {},
   "outputs": [],
   "source": []
  },
  {
   "cell_type": "code",
   "execution_count": null,
   "metadata": {},
   "outputs": [],
   "source": []
  }
 ],
 "metadata": {
  "kernelspec": {
   "display_name": "Python 3",
   "language": "python",
   "name": "python3"
  },
  "language_info": {
   "codemirror_mode": {
    "name": "ipython",
    "version": 3
   },
   "file_extension": ".py",
   "mimetype": "text/x-python",
   "name": "python",
   "nbconvert_exporter": "python",
   "pygments_lexer": "ipython3",
   "version": "3.7.4"
  }
 },
 "nbformat": 4,
 "nbformat_minor": 2
}
