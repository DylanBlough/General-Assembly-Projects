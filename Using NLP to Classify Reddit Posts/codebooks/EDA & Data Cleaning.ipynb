{
 "cells": [
  {
   "cell_type": "code",
   "execution_count": 38,
   "metadata": {},
   "outputs": [],
   "source": [
    "import pandas as pd\n",
    "import numpy as np\n",
    "import scipy.stats as stats\n",
    "from sklearn.linear_model import LinearRegression\n",
    "import sklearn.metrics as metrics\n",
    "from sklearn.model_selection import cross_val_score, cross_val_predict, train_test_split\n",
    "from sklearn.preprocessing import PolynomialFeatures, StandardScaler\n",
    "import matplotlib\n",
    "import matplotlib.pyplot as plt\n",
    "import seaborn as sns\n",
    "\n",
    "%matplotlib inline"
   ]
  },
  {
   "cell_type": "code",
   "execution_count": 39,
   "metadata": {},
   "outputs": [],
   "source": [
    "hist = pd.read_csv(\"../datasets/history_subs5\", index_col = False)\n",
    "hist_2 = pd.read_csv(\"../datasets/history_subs2\", index_col = False) # saving the two scrapes as separate variables\n",
    "hist_3 = pd.read_csv(\"../datasets/history_subs3\", index_col = False)\n",
    "hist_4 = pd.read_csv(\"../datasets/history_subs4\", index_col = False)\n",
    "cons = pd.read_csv(\"../datasets/conspiracy_subs5\", index_col = False)\n",
    "cons_2 = pd.read_csv('../datasets/conspiracy_subs2', index_col = False)\n",
    "cons_3 = pd.read_csv(\"../datasets/conspiracy_subs3\", index_col = False)"
   ]
  },
  {
   "cell_type": "code",
   "execution_count": 40,
   "metadata": {},
   "outputs": [
    {
     "data": {
      "text/plain": [
       "0      The Spencer Rifle (A little info on a historic...\n",
       "1                         Organising Your Family History\n",
       "2      Best Deals &amp; Offer Sony confirms Sony conf...\n",
       "3                      A Brief History of Women's Rights\n",
       "4                                                  Helen\n",
       "                             ...                        \n",
       "995    La Thaïlande, une dictature militaire sous com...\n",
       "996    Phone X Korean High super ace duplicate | Genu...\n",
       "997    LG India Job Vacancies In 2019 | All Engineeri...\n",
       "998    Get Electrical Engineering Best Courses for Fr...\n",
       "999    Why Cold War era politicians were so charismatic?\n",
       "Name: title, Length: 1000, dtype: object"
      ]
     },
     "execution_count": 40,
     "metadata": {},
     "output_type": "execute_result"
    }
   ],
   "source": [
    "hist.title"
   ]
  },
  {
   "cell_type": "code",
   "execution_count": 41,
   "metadata": {},
   "outputs": [
    {
     "data": {
      "text/plain": [
       "0      SOS the government is Gang Stalking me and pla...\n",
       "1                    Brainwashing? Is that a real thing?\n",
       "2       Let us not Forget what Europe did during 1900-45\n",
       "3                    Hillary Clinton's guilt demystified\n",
       "4      The Coronavirus was created in a laboratory an...\n",
       "                             ...                        \n",
       "995    The Pentagon Wars is a 1998 dark comedy film f...\n",
       "996        Prolly against the rules. But any good ideas?\n",
       "997      Florida Sandy Hook Conspiracy Theorist Arrested\n",
       "998    Group of Real Americans Concerned About Consti...\n",
       "999    I think China is planning to let this corona v...\n",
       "Name: title, Length: 1000, dtype: object"
      ]
     },
     "execution_count": 41,
     "metadata": {},
     "output_type": "execute_result"
    }
   ],
   "source": [
    "cons.title"
   ]
  },
  {
   "cell_type": "code",
   "execution_count": 42,
   "metadata": {},
   "outputs": [],
   "source": [
    "# combining the subreddit scrapes\n",
    "\n",
    "hist = hist.append(hist_2, sort = True)\n",
    "hist = hist.append(hist_3, sort = True)\n",
    "hist = hist.append(hist_4, sort = True)\n",
    "cons = cons.append(cons_2, sort = True)\n",
    "cons = cons.append(cons_3, sort = True)"
   ]
  },
  {
   "cell_type": "code",
   "execution_count": 43,
   "metadata": {
    "scrolled": false
   },
   "outputs": [
    {
     "data": {
      "text/plain": [
       "(4000, 83)"
      ]
     },
     "execution_count": 43,
     "metadata": {},
     "output_type": "execute_result"
    }
   ],
   "source": [
    "hist.shape "
   ]
  },
  {
   "cell_type": "code",
   "execution_count": 44,
   "metadata": {},
   "outputs": [
    {
     "data": {
      "text/plain": [
       "0      The Spencer Rifle (A little info on a historic...\n",
       "1                         Organising Your Family History\n",
       "2      Best Deals &amp; Offer Sony confirms Sony conf...\n",
       "3                      A Brief History of Women's Rights\n",
       "4                                                  Helen\n",
       "                             ...                        \n",
       "995                                                  NaN\n",
       "996                                                  NaN\n",
       "997                                                  NaN\n",
       "998                                                  NaN\n",
       "999                                                  NaN\n",
       "Name: title, Length: 4000, dtype: object"
      ]
     },
     "execution_count": 44,
     "metadata": {},
     "output_type": "execute_result"
    }
   ],
   "source": [
    "hist.title"
   ]
  },
  {
   "cell_type": "code",
   "execution_count": 45,
   "metadata": {},
   "outputs": [
    {
     "data": {
      "text/plain": [
       "(3000, 74)"
      ]
     },
     "execution_count": 45,
     "metadata": {},
     "output_type": "execute_result"
    }
   ],
   "source": [
    "cons.shape"
   ]
  },
  {
   "cell_type": "code",
   "execution_count": 46,
   "metadata": {},
   "outputs": [
    {
     "data": {
      "text/plain": [
       "0      SOS the government is Gang Stalking me and pla...\n",
       "1                    Brainwashing? Is that a real thing?\n",
       "2       Let us not Forget what Europe did during 1900-45\n",
       "3                    Hillary Clinton's guilt demystified\n",
       "4      The Coronavirus was created in a laboratory an...\n",
       "                             ...                        \n",
       "995    Pirbright Institute, funded by the Bill and Me...\n",
       "996    The Pentagon Wars is a 1998 dark comedy film f...\n",
       "997        Prolly against the rules. But any good ideas?\n",
       "998      Florida Sandy Hook Conspiracy Theorist Arrested\n",
       "999    Group of Real Americans Concerned About Consti...\n",
       "Name: title, Length: 3000, dtype: object"
      ]
     },
     "execution_count": 46,
     "metadata": {},
     "output_type": "execute_result"
    }
   ],
   "source": [
    "cons.title"
   ]
  },
  {
   "cell_type": "markdown",
   "metadata": {},
   "source": [
    "Looking at both scrapes it looks like we have 4000 submissions /r/history and 3000 from /r/conspiracy."
   ]
  },
  {
   "cell_type": "code",
   "execution_count": 47,
   "metadata": {},
   "outputs": [
    {
     "data": {
      "text/plain": [
       "Index(['Unnamed: 0', 'all_awardings', 'allow_live_comments',\n",
       "       'associated_award', 'author', 'author_cakeday',\n",
       "       'author_flair_background_color', 'author_flair_css_class',\n",
       "       'author_flair_richtext', 'author_flair_template_id',\n",
       "       'author_flair_text', 'author_flair_text_color', 'author_flair_type',\n",
       "       'author_fullname', 'author_patreon_flair', 'author_premium', 'awarders',\n",
       "       'banned_by', 'body', 'can_mod_post', 'collapsed_because_crowd_control',\n",
       "       'contest_mode', 'created_utc', 'distinguished', 'domain', 'edited',\n",
       "       'full_link', 'gildings', 'id', 'is_crosspostable', 'is_meta',\n",
       "       'is_original_content', 'is_reddit_media_domain', 'is_robot_indexable',\n",
       "       'is_self', 'is_submitter', 'is_video', 'link_flair_background_color',\n",
       "       'link_flair_css_class', 'link_flair_richtext', 'link_flair_template_id',\n",
       "       'link_flair_text', 'link_flair_text_color', 'link_flair_type',\n",
       "       'link_id', 'locked', 'media', 'media_embed', 'media_only', 'no_follow',\n",
       "       'num_comments', 'num_crossposts', 'over_18', 'parent_id',\n",
       "       'parent_whitelist_status', 'permalink', 'pinned', 'post_hint',\n",
       "       'preview', 'pwls', 'removed_by_category', 'retrieved_on', 'score',\n",
       "       'secure_media', 'secure_media_embed', 'selftext', 'send_replies',\n",
       "       'spoiler', 'steward_reports', 'stickied', 'subreddit', 'subreddit_id',\n",
       "       'subreddit_subscribers', 'subreddit_type', 'suggested_sort',\n",
       "       'thumbnail', 'thumbnail_height', 'thumbnail_width', 'title',\n",
       "       'total_awards_received', 'url', 'whitelist_status', 'wls'],\n",
       "      dtype='object')"
      ]
     },
     "execution_count": 47,
     "metadata": {},
     "output_type": "execute_result"
    }
   ],
   "source": [
    "# see what the columns look like\n",
    "hist.columns"
   ]
  },
  {
   "cell_type": "code",
   "execution_count": 48,
   "metadata": {},
   "outputs": [
    {
     "data": {
      "text/html": [
       "<div>\n",
       "<style scoped>\n",
       "    .dataframe tbody tr th:only-of-type {\n",
       "        vertical-align: middle;\n",
       "    }\n",
       "\n",
       "    .dataframe tbody tr th {\n",
       "        vertical-align: top;\n",
       "    }\n",
       "\n",
       "    .dataframe thead th {\n",
       "        text-align: right;\n",
       "    }\n",
       "</style>\n",
       "<table border=\"1\" class=\"dataframe\">\n",
       "  <thead>\n",
       "    <tr style=\"text-align: right;\">\n",
       "      <th></th>\n",
       "      <th>author</th>\n",
       "      <th>id</th>\n",
       "      <th>selftext</th>\n",
       "      <th>subreddit</th>\n",
       "      <th>title</th>\n",
       "    </tr>\n",
       "  </thead>\n",
       "  <tbody>\n",
       "    <tr>\n",
       "      <th>0</th>\n",
       "      <td>santee2171</td>\n",
       "      <td>ew76w8</td>\n",
       "      <td>NaN</td>\n",
       "      <td>history</td>\n",
       "      <td>The Spencer Rifle (A little info on a historic...</td>\n",
       "    </tr>\n",
       "    <tr>\n",
       "      <th>1</th>\n",
       "      <td>chiddicks</td>\n",
       "      <td>ew70pw</td>\n",
       "      <td>[removed]</td>\n",
       "      <td>history</td>\n",
       "      <td>Organising Your Family History</td>\n",
       "    </tr>\n",
       "    <tr>\n",
       "      <th>2</th>\n",
       "      <td>Subhasmitasamal</td>\n",
       "      <td>ew6g9k</td>\n",
       "      <td>NaN</td>\n",
       "      <td>history</td>\n",
       "      <td>Best Deals &amp;amp; Offer Sony confirms Sony conf...</td>\n",
       "    </tr>\n",
       "    <tr>\n",
       "      <th>3</th>\n",
       "      <td>dineshtaylr</td>\n",
       "      <td>ew6ayf</td>\n",
       "      <td>NaN</td>\n",
       "      <td>history</td>\n",
       "      <td>A Brief History of Women's Rights</td>\n",
       "    </tr>\n",
       "    <tr>\n",
       "      <th>4</th>\n",
       "      <td>atumhal</td>\n",
       "      <td>ew656m</td>\n",
       "      <td>[removed]</td>\n",
       "      <td>history</td>\n",
       "      <td>Helen</td>\n",
       "    </tr>\n",
       "  </tbody>\n",
       "</table>\n",
       "</div>"
      ],
      "text/plain": [
       "            author      id   selftext subreddit  \\\n",
       "0       santee2171  ew76w8        NaN   history   \n",
       "1        chiddicks  ew70pw  [removed]   history   \n",
       "2  Subhasmitasamal  ew6g9k        NaN   history   \n",
       "3      dineshtaylr  ew6ayf        NaN   history   \n",
       "4          atumhal  ew656m  [removed]   history   \n",
       "\n",
       "                                               title  \n",
       "0  The Spencer Rifle (A little info on a historic...  \n",
       "1                     Organising Your Family History  \n",
       "2  Best Deals &amp; Offer Sony confirms Sony conf...  \n",
       "3                  A Brief History of Women's Rights  \n",
       "4                                              Helen  "
      ]
     },
     "execution_count": 48,
     "metadata": {},
     "output_type": "execute_result"
    }
   ],
   "source": [
    "# title is the \"title\" of the submission, selftext is where the body text is written\n",
    "hist = hist[['author', 'id', 'selftext', 'subreddit', 'title']]\n",
    "hist.head()"
   ]
  },
  {
   "cell_type": "code",
   "execution_count": 49,
   "metadata": {},
   "outputs": [],
   "source": [
    "# let's get rid of all the comments made by the auto-moderator\n",
    "\n",
    "hist = hist[hist['author'] != 'AutoModerator']"
   ]
  },
  {
   "cell_type": "code",
   "execution_count": 50,
   "metadata": {},
   "outputs": [
    {
     "data": {
      "text/html": [
       "<div>\n",
       "<style scoped>\n",
       "    .dataframe tbody tr th:only-of-type {\n",
       "        vertical-align: middle;\n",
       "    }\n",
       "\n",
       "    .dataframe tbody tr th {\n",
       "        vertical-align: top;\n",
       "    }\n",
       "\n",
       "    .dataframe thead th {\n",
       "        text-align: right;\n",
       "    }\n",
       "</style>\n",
       "<table border=\"1\" class=\"dataframe\">\n",
       "  <thead>\n",
       "    <tr style=\"text-align: right;\">\n",
       "      <th></th>\n",
       "      <th>author</th>\n",
       "      <th>id</th>\n",
       "      <th>selftext</th>\n",
       "      <th>subreddit</th>\n",
       "      <th>title</th>\n",
       "    </tr>\n",
       "  </thead>\n",
       "  <tbody>\n",
       "    <tr>\n",
       "      <th>0</th>\n",
       "      <td>santee2171</td>\n",
       "      <td>ew76w8</td>\n",
       "      <td>NaN</td>\n",
       "      <td>history</td>\n",
       "      <td>The Spencer Rifle (A little info on a historic...</td>\n",
       "    </tr>\n",
       "    <tr>\n",
       "      <th>1</th>\n",
       "      <td>chiddicks</td>\n",
       "      <td>ew70pw</td>\n",
       "      <td>[removed]</td>\n",
       "      <td>history</td>\n",
       "      <td>Organising Your Family History</td>\n",
       "    </tr>\n",
       "    <tr>\n",
       "      <th>2</th>\n",
       "      <td>Subhasmitasamal</td>\n",
       "      <td>ew6g9k</td>\n",
       "      <td>NaN</td>\n",
       "      <td>history</td>\n",
       "      <td>Best Deals &amp;amp; Offer Sony confirms Sony conf...</td>\n",
       "    </tr>\n",
       "    <tr>\n",
       "      <th>3</th>\n",
       "      <td>dineshtaylr</td>\n",
       "      <td>ew6ayf</td>\n",
       "      <td>NaN</td>\n",
       "      <td>history</td>\n",
       "      <td>A Brief History of Women's Rights</td>\n",
       "    </tr>\n",
       "    <tr>\n",
       "      <th>4</th>\n",
       "      <td>atumhal</td>\n",
       "      <td>ew656m</td>\n",
       "      <td>[removed]</td>\n",
       "      <td>history</td>\n",
       "      <td>Helen</td>\n",
       "    </tr>\n",
       "  </tbody>\n",
       "</table>\n",
       "</div>"
      ],
      "text/plain": [
       "            author      id   selftext subreddit  \\\n",
       "0       santee2171  ew76w8        NaN   history   \n",
       "1        chiddicks  ew70pw  [removed]   history   \n",
       "2  Subhasmitasamal  ew6g9k        NaN   history   \n",
       "3      dineshtaylr  ew6ayf        NaN   history   \n",
       "4          atumhal  ew656m  [removed]   history   \n",
       "\n",
       "                                               title  \n",
       "0  The Spencer Rifle (A little info on a historic...  \n",
       "1                     Organising Your Family History  \n",
       "2  Best Deals &amp; Offer Sony confirms Sony conf...  \n",
       "3                  A Brief History of Women's Rights  \n",
       "4                                              Helen  "
      ]
     },
     "execution_count": 50,
     "metadata": {},
     "output_type": "execute_result"
    }
   ],
   "source": [
    "hist.head()"
   ]
  },
  {
   "cell_type": "code",
   "execution_count": 51,
   "metadata": {},
   "outputs": [
    {
     "data": {
      "text/plain": [
       "(3916, 5)"
      ]
     },
     "execution_count": 51,
     "metadata": {},
     "output_type": "execute_result"
    }
   ],
   "source": [
    "hist.shape"
   ]
  },
  {
   "cell_type": "markdown",
   "metadata": {},
   "source": [
    "It looks like removing all the automod comments dropped our pool of comments a bit. Let's get rid of removed/deleted submissions as well"
   ]
  },
  {
   "cell_type": "code",
   "execution_count": 52,
   "metadata": {},
   "outputs": [],
   "source": [
    "hist = hist[hist['title'] != '[deleted]']\n",
    "hist = hist[hist['title'] != '[removed]']"
   ]
  },
  {
   "cell_type": "code",
   "execution_count": 53,
   "metadata": {},
   "outputs": [
    {
     "data": {
      "text/plain": [
       "(3916, 5)"
      ]
     },
     "execution_count": 53,
     "metadata": {},
     "output_type": "execute_result"
    }
   ],
   "source": [
    "#  see how many comments we have left\n",
    "hist.shape"
   ]
  },
  {
   "cell_type": "code",
   "execution_count": 54,
   "metadata": {},
   "outputs": [],
   "source": [
    "hist['title'] = hist['title'].replace(r'[^a-zA-Z0-9\\s\\/]', '', regex=True) # using .replace & regex tp replace every\n",
    "                                                                         # non-alphanumeric character \n",
    "hist['title'] = hist['title'].replace(r'[\\r\\n]+', ' ', regex=True) # replacing cairrage returns"
   ]
  },
  {
   "cell_type": "code",
   "execution_count": 55,
   "metadata": {
    "scrolled": true
   },
   "outputs": [
    {
     "data": {
      "text/plain": [
       "author          0\n",
       "id              0\n",
       "selftext     2508\n",
       "subreddit       0\n",
       "title        1924\n",
       "dtype: int64"
      ]
     },
     "execution_count": 55,
     "metadata": {},
     "output_type": "execute_result"
    }
   ],
   "source": [
    "# check for NaNs\n",
    "\n",
    "hist.isna().sum()"
   ]
  },
  {
   "cell_type": "code",
   "execution_count": 62,
   "metadata": {},
   "outputs": [],
   "source": [
    "hist.dropna(inplace = True)"
   ]
  },
  {
   "cell_type": "code",
   "execution_count": 65,
   "metadata": {},
   "outputs": [],
   "source": [
    "#  let's make sure we don't have any duplicate posts\n",
    "\n",
    "hist['id'].drop_duplicates(inplace = True)"
   ]
  },
  {
   "cell_type": "code",
   "execution_count": 66,
   "metadata": {},
   "outputs": [
    {
     "data": {
      "text/plain": [
       "(1408, 5)"
      ]
     },
     "execution_count": 66,
     "metadata": {},
     "output_type": "execute_result"
    }
   ],
   "source": [
    "hist.shape"
   ]
  },
  {
   "cell_type": "markdown",
   "metadata": {},
   "source": [
    "We have a final pool of 1408 submissions from /r/history to import and use for our modeling. Time to clean the /r/conspiracy data!"
   ]
  },
  {
   "cell_type": "code",
   "execution_count": 67,
   "metadata": {},
   "outputs": [],
   "source": [
    "cons = cons[['author', 'id', 'selftext', 'subreddit', 'title']]"
   ]
  },
  {
   "cell_type": "code",
   "execution_count": 68,
   "metadata": {},
   "outputs": [
    {
     "data": {
      "text/html": [
       "<div>\n",
       "<style scoped>\n",
       "    .dataframe tbody tr th:only-of-type {\n",
       "        vertical-align: middle;\n",
       "    }\n",
       "\n",
       "    .dataframe tbody tr th {\n",
       "        vertical-align: top;\n",
       "    }\n",
       "\n",
       "    .dataframe thead th {\n",
       "        text-align: right;\n",
       "    }\n",
       "</style>\n",
       "<table border=\"1\" class=\"dataframe\">\n",
       "  <thead>\n",
       "    <tr style=\"text-align: right;\">\n",
       "      <th></th>\n",
       "      <th>author</th>\n",
       "      <th>id</th>\n",
       "      <th>selftext</th>\n",
       "      <th>subreddit</th>\n",
       "      <th>title</th>\n",
       "    </tr>\n",
       "  </thead>\n",
       "  <tbody>\n",
       "    <tr>\n",
       "      <th>0</th>\n",
       "      <td>dopamineiscool</td>\n",
       "      <td>ew7gd2</td>\n",
       "      <td>The government is manipulating me with mind co...</td>\n",
       "      <td>conspiracy</td>\n",
       "      <td>SOS the government is Gang Stalking me and pla...</td>\n",
       "    </tr>\n",
       "    <tr>\n",
       "      <th>1</th>\n",
       "      <td>ifiagreedwithu</td>\n",
       "      <td>ew7gbu</td>\n",
       "      <td>NaN</td>\n",
       "      <td>conspiracy</td>\n",
       "      <td>Brainwashing? Is that a real thing?</td>\n",
       "    </tr>\n",
       "    <tr>\n",
       "      <th>2</th>\n",
       "      <td>GreyFox78659</td>\n",
       "      <td>ew7de0</td>\n",
       "      <td>https://images.app.goo.gl/fy6em1W5pDvTKUNW9\\n\\...</td>\n",
       "      <td>conspiracy</td>\n",
       "      <td>Let us not Forget what Europe did during 1900-45</td>\n",
       "    </tr>\n",
       "    <tr>\n",
       "      <th>3</th>\n",
       "      <td>Locomule</td>\n",
       "      <td>ew7czg</td>\n",
       "      <td>When you become designated to handle classifie...</td>\n",
       "      <td>conspiracy</td>\n",
       "      <td>Hillary Clinton's guilt demystified</td>\n",
       "    </tr>\n",
       "    <tr>\n",
       "      <th>4</th>\n",
       "      <td>DeViN_tHa_DuDe</td>\n",
       "      <td>ew7bk3</td>\n",
       "      <td>NaN</td>\n",
       "      <td>conspiracy</td>\n",
       "      <td>The Coronavirus was created in a laboratory an...</td>\n",
       "    </tr>\n",
       "  </tbody>\n",
       "</table>\n",
       "</div>"
      ],
      "text/plain": [
       "           author      id                                           selftext  \\\n",
       "0  dopamineiscool  ew7gd2  The government is manipulating me with mind co...   \n",
       "1  ifiagreedwithu  ew7gbu                                                NaN   \n",
       "2    GreyFox78659  ew7de0  https://images.app.goo.gl/fy6em1W5pDvTKUNW9\\n\\...   \n",
       "3        Locomule  ew7czg  When you become designated to handle classifie...   \n",
       "4  DeViN_tHa_DuDe  ew7bk3                                                NaN   \n",
       "\n",
       "    subreddit                                              title  \n",
       "0  conspiracy  SOS the government is Gang Stalking me and pla...  \n",
       "1  conspiracy                Brainwashing? Is that a real thing?  \n",
       "2  conspiracy   Let us not Forget what Europe did during 1900-45  \n",
       "3  conspiracy                Hillary Clinton's guilt demystified  \n",
       "4  conspiracy  The Coronavirus was created in a laboratory an...  "
      ]
     },
     "execution_count": 68,
     "metadata": {},
     "output_type": "execute_result"
    }
   ],
   "source": [
    "cons.head()"
   ]
  },
  {
   "cell_type": "code",
   "execution_count": 69,
   "metadata": {},
   "outputs": [],
   "source": [
    "# doing the same title/author clean-up\n",
    "cons = cons[cons['title'] != '[deleted]']\n",
    "cons = cons[cons['title'] != '[removed]']\n",
    "cons = cons[cons['author'] != 'AutoModerator']"
   ]
  },
  {
   "cell_type": "code",
   "execution_count": 70,
   "metadata": {},
   "outputs": [],
   "source": [
    "cons['title'] = cons['title'].replace(r'[^a-zA-Z0-9\\s\\/]', '', regex=True) # using .replace & regex tp replace every\n",
    "                                                                         # non-alphanumeric character \n",
    "cons['title'] = cons['title'].replace(r'[\\r\\n]+', ' ', regex=True) # replacing cairrage returns"
   ]
  },
  {
   "cell_type": "code",
   "execution_count": 71,
   "metadata": {
    "scrolled": true
   },
   "outputs": [
    {
     "data": {
      "text/html": [
       "<div>\n",
       "<style scoped>\n",
       "    .dataframe tbody tr th:only-of-type {\n",
       "        vertical-align: middle;\n",
       "    }\n",
       "\n",
       "    .dataframe tbody tr th {\n",
       "        vertical-align: top;\n",
       "    }\n",
       "\n",
       "    .dataframe thead th {\n",
       "        text-align: right;\n",
       "    }\n",
       "</style>\n",
       "<table border=\"1\" class=\"dataframe\">\n",
       "  <thead>\n",
       "    <tr style=\"text-align: right;\">\n",
       "      <th></th>\n",
       "      <th>author</th>\n",
       "      <th>id</th>\n",
       "      <th>selftext</th>\n",
       "      <th>subreddit</th>\n",
       "      <th>title</th>\n",
       "    </tr>\n",
       "  </thead>\n",
       "  <tbody>\n",
       "    <tr>\n",
       "      <th>0</th>\n",
       "      <td>dopamineiscool</td>\n",
       "      <td>ew7gd2</td>\n",
       "      <td>The government is manipulating me with mind co...</td>\n",
       "      <td>conspiracy</td>\n",
       "      <td>SOS the government is Gang Stalking me and pla...</td>\n",
       "    </tr>\n",
       "    <tr>\n",
       "      <th>1</th>\n",
       "      <td>ifiagreedwithu</td>\n",
       "      <td>ew7gbu</td>\n",
       "      <td>NaN</td>\n",
       "      <td>conspiracy</td>\n",
       "      <td>Brainwashing Is that a real thing</td>\n",
       "    </tr>\n",
       "    <tr>\n",
       "      <th>2</th>\n",
       "      <td>GreyFox78659</td>\n",
       "      <td>ew7de0</td>\n",
       "      <td>https://images.app.goo.gl/fy6em1W5pDvTKUNW9\\n\\...</td>\n",
       "      <td>conspiracy</td>\n",
       "      <td>Let us not Forget what Europe did during 190045</td>\n",
       "    </tr>\n",
       "    <tr>\n",
       "      <th>3</th>\n",
       "      <td>Locomule</td>\n",
       "      <td>ew7czg</td>\n",
       "      <td>When you become designated to handle classifie...</td>\n",
       "      <td>conspiracy</td>\n",
       "      <td>Hillary Clintons guilt demystified</td>\n",
       "    </tr>\n",
       "    <tr>\n",
       "      <th>4</th>\n",
       "      <td>DeViN_tHa_DuDe</td>\n",
       "      <td>ew7bk3</td>\n",
       "      <td>NaN</td>\n",
       "      <td>conspiracy</td>\n",
       "      <td>The Coronavirus was created in a laboratory an...</td>\n",
       "    </tr>\n",
       "  </tbody>\n",
       "</table>\n",
       "</div>"
      ],
      "text/plain": [
       "           author      id                                           selftext  \\\n",
       "0  dopamineiscool  ew7gd2  The government is manipulating me with mind co...   \n",
       "1  ifiagreedwithu  ew7gbu                                                NaN   \n",
       "2    GreyFox78659  ew7de0  https://images.app.goo.gl/fy6em1W5pDvTKUNW9\\n\\...   \n",
       "3        Locomule  ew7czg  When you become designated to handle classifie...   \n",
       "4  DeViN_tHa_DuDe  ew7bk3                                                NaN   \n",
       "\n",
       "    subreddit                                              title  \n",
       "0  conspiracy  SOS the government is Gang Stalking me and pla...  \n",
       "1  conspiracy                  Brainwashing Is that a real thing  \n",
       "2  conspiracy    Let us not Forget what Europe did during 190045  \n",
       "3  conspiracy                 Hillary Clintons guilt demystified  \n",
       "4  conspiracy  The Coronavirus was created in a laboratory an...  "
      ]
     },
     "execution_count": 71,
     "metadata": {},
     "output_type": "execute_result"
    }
   ],
   "source": [
    "cons.head()"
   ]
  },
  {
   "cell_type": "code",
   "execution_count": 72,
   "metadata": {},
   "outputs": [],
   "source": [
    "cons.dropna(inplace = True)"
   ]
  },
  {
   "cell_type": "code",
   "execution_count": 73,
   "metadata": {
    "scrolled": true
   },
   "outputs": [],
   "source": [
    "cons['id'].drop_duplicates(inplace = True)"
   ]
  },
  {
   "cell_type": "code",
   "execution_count": 74,
   "metadata": {},
   "outputs": [
    {
     "data": {
      "text/plain": [
       "(1287, 5)"
      ]
     },
     "execution_count": 74,
     "metadata": {},
     "output_type": "execute_result"
    }
   ],
   "source": [
    "cons.shape"
   ]
  },
  {
   "cell_type": "code",
   "execution_count": 75,
   "metadata": {},
   "outputs": [],
   "source": [
    "# exporting our cleaned data\n",
    "\n",
    "hist_clean = hist.to_csv(\"../datasets/clean_hist_sub.csv\")\n",
    "cons_clean = cons.to_csv(\"../datasets/clean_cons_sub.csv\")"
   ]
  },
  {
   "cell_type": "code",
   "execution_count": null,
   "metadata": {},
   "outputs": [],
   "source": []
  }
 ],
 "metadata": {
  "kernelspec": {
   "display_name": "Python 3",
   "language": "python",
   "name": "python3"
  },
  "language_info": {
   "codemirror_mode": {
    "name": "ipython",
    "version": 3
   },
   "file_extension": ".py",
   "mimetype": "text/x-python",
   "name": "python",
   "nbconvert_exporter": "python",
   "pygments_lexer": "ipython3",
   "version": "3.7.4"
  }
 },
 "nbformat": 4,
 "nbformat_minor": 2
}
